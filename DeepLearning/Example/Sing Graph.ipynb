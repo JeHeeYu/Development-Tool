# TensorFlow는 오픈소스 라이브러 아래의 코드는 텐서플로우 2버전을 사용
!pip install tensorflow==2.0.0
import tensorflow as tf

# 넘파이(Numpy)는 수학 연산에 추가적으로 필요한 라이브러리
import numpy as np

# Matplotlib은 그래프를 그리는데 필요한 라이브러리
import matplotlib.pyplot as plt

# math는 파이썬의 수학 라이브러리
import math

# 아래의 값만큼 데이터 샘플을 생성
SAMPLES = 1000

# SEEND 값을 지정하여 실행 시 랜덤 값 생성 숫자는 임의로 지정
np.random.seed(1337)

# 사인파 진폭의 범위인 0~2π 내에서 균일하게 분포된 난수 집합 생성
x_values = np.random.uniform(low=0, high=2*math.pi, size=SAMPLES)

# 값을 섞어서 생성된 값들이 순서를 따르지 않도록 설정
np.random.shuffle(x_values)

# 해당 사인값을 계산
y_values = np.sin(x_values)

# 데이터를 그래프로 그린다. 'b.' 인수는 라이브러리에 점을 파란색으로 출력하도록 지시
plt.plot(x_values, y_values, 'b.')
plt.show()
